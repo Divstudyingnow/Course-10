{
 "cells": [
  {
   "cell_type": "code",
   "execution_count": 1,
   "id": "3177f902-0d79-4ae4-822e-6b7faea578d4",
   "metadata": {},
   "outputs": [
    {
     "data": {
      "text/html": [
       "<div>\n",
       "<style scoped>\n",
       "    .dataframe tbody tr th:only-of-type {\n",
       "        vertical-align: middle;\n",
       "    }\n",
       "\n",
       "    .dataframe tbody tr th {\n",
       "        vertical-align: top;\n",
       "    }\n",
       "\n",
       "    .dataframe thead th {\n",
       "        text-align: right;\n",
       "    }\n",
       "</style>\n",
       "<table border=\"1\" class=\"dataframe\">\n",
       "  <thead>\n",
       "    <tr style=\"text-align: right;\">\n",
       "      <th></th>\n",
       "      <th>Unnamed: 0</th>\n",
       "      <th>Flight Number</th>\n",
       "      <th>Launch Site</th>\n",
       "      <th>class</th>\n",
       "      <th>Payload Mass (kg)</th>\n",
       "      <th>Booster Version</th>\n",
       "      <th>Booster Version Category</th>\n",
       "    </tr>\n",
       "  </thead>\n",
       "  <tbody>\n",
       "    <tr>\n",
       "      <th>0</th>\n",
       "      <td>0</td>\n",
       "      <td>1</td>\n",
       "      <td>CCAFS LC-40</td>\n",
       "      <td>0</td>\n",
       "      <td>0.0</td>\n",
       "      <td>F9 v1.0  B0003</td>\n",
       "      <td>v1.0</td>\n",
       "    </tr>\n",
       "    <tr>\n",
       "      <th>1</th>\n",
       "      <td>1</td>\n",
       "      <td>2</td>\n",
       "      <td>CCAFS LC-40</td>\n",
       "      <td>0</td>\n",
       "      <td>0.0</td>\n",
       "      <td>F9 v1.0  B0004</td>\n",
       "      <td>v1.0</td>\n",
       "    </tr>\n",
       "    <tr>\n",
       "      <th>2</th>\n",
       "      <td>2</td>\n",
       "      <td>3</td>\n",
       "      <td>CCAFS LC-40</td>\n",
       "      <td>0</td>\n",
       "      <td>525.0</td>\n",
       "      <td>F9 v1.0  B0005</td>\n",
       "      <td>v1.0</td>\n",
       "    </tr>\n",
       "    <tr>\n",
       "      <th>3</th>\n",
       "      <td>3</td>\n",
       "      <td>4</td>\n",
       "      <td>CCAFS LC-40</td>\n",
       "      <td>0</td>\n",
       "      <td>500.0</td>\n",
       "      <td>F9 v1.0  B0006</td>\n",
       "      <td>v1.0</td>\n",
       "    </tr>\n",
       "    <tr>\n",
       "      <th>4</th>\n",
       "      <td>4</td>\n",
       "      <td>5</td>\n",
       "      <td>CCAFS LC-40</td>\n",
       "      <td>0</td>\n",
       "      <td>677.0</td>\n",
       "      <td>F9 v1.0  B0007</td>\n",
       "      <td>v1.0</td>\n",
       "    </tr>\n",
       "  </tbody>\n",
       "</table>\n",
       "</div>"
      ],
      "text/plain": [
       "   Unnamed: 0  Flight Number  Launch Site  class  Payload Mass (kg)  \\\n",
       "0           0              1  CCAFS LC-40      0                0.0   \n",
       "1           1              2  CCAFS LC-40      0                0.0   \n",
       "2           2              3  CCAFS LC-40      0              525.0   \n",
       "3           3              4  CCAFS LC-40      0              500.0   \n",
       "4           4              5  CCAFS LC-40      0              677.0   \n",
       "\n",
       "  Booster Version Booster Version Category  \n",
       "0  F9 v1.0  B0003                     v1.0  \n",
       "1  F9 v1.0  B0004                     v1.0  \n",
       "2  F9 v1.0  B0005                     v1.0  \n",
       "3  F9 v1.0  B0006                     v1.0  \n",
       "4  F9 v1.0  B0007                     v1.0  "
      ]
     },
     "execution_count": 1,
     "metadata": {},
     "output_type": "execute_result"
    }
   ],
   "source": [
    "import pandas as pd\n",
    "import wget\n",
    "import os\n",
    "\n",
    "# Download the file (only if it doesn't already exist)\n",
    "url = \"https://cf-courses-data.s3.us.cloud-object-storage.appdomain.cloud/IBM-DS0321EN-SkillsNetwork/datasets/spacex_launch_dash.csv\"\n",
    "if not os.path.exists(\"spacex_launch_dash.csv\"):\n",
    "    wget.download(url, \"spacex_launch_dash.csv\")\n",
    "\n",
    "# Load it\n",
    "spacex_df = pd.read_csv(\"spacex_launch_dash.csv\")\n",
    "spacex_df.head()"
   ]
  },
  {
   "cell_type": "code",
   "execution_count": 2,
   "id": "a3c8aca1-8be0-4a31-ad04-48307b027ff6",
   "metadata": {},
   "outputs": [],
   "source": [
    "launch_sites = spacex_df['Launch Site'].unique().tolist()"
   ]
  },
  {
   "cell_type": "code",
   "execution_count": 3,
   "id": "1b1e5940-dc8f-42ba-8acc-03783d5495de",
   "metadata": {},
   "outputs": [],
   "source": [
    "options = [{'label': 'All Sites', 'value': 'ALL'}]\n",
    "for site in launch_sites:\n",
    "    options.append({'label': site, 'value': site})"
   ]
  },
  {
   "cell_type": "code",
   "execution_count": 4,
   "id": "56d3a676-2938-4249-b533-95d2e87f458d",
   "metadata": {},
   "outputs": [
    {
     "data": {
      "text/html": [
       "\n",
       "        <iframe\n",
       "            width=\"100%\"\n",
       "            height=\"650\"\n",
       "            src=\"http://127.0.0.1:8050/\"\n",
       "            frameborder=\"0\"\n",
       "            allowfullscreen\n",
       "            \n",
       "        ></iframe>\n",
       "        "
      ],
      "text/plain": [
       "<IPython.lib.display.IFrame at 0x2645ac96cf0>"
      ]
     },
     "metadata": {},
     "output_type": "display_data"
    }
   ],
   "source": [
    "from dash import Dash, dcc, html\n",
    "import pandas as pd\n",
    "import plotly.express as px\n",
    "\n",
    "# Load data\n",
    "spacex_df = pd.read_csv(\"spacex_launch_dash.csv\")\n",
    "\n",
    "# Extract unique sites\n",
    "launch_sites = spacex_df['Launch Site'].unique().tolist()\n",
    "\n",
    "# Build dropdown options\n",
    "options = [{'label': 'All Sites', 'value': 'ALL'}]\n",
    "for site in launch_sites:\n",
    "    options.append({'label': site, 'value': site})\n",
    "\n",
    "# Create Dash app\n",
    "app = Dash(__name__)\n",
    "\n",
    "# Layout\n",
    "app.layout = html.Div([\n",
    "    html.H1(\"SpaceX Launch Records Dashboard\",\n",
    "            style={'textAlign': 'center', 'color': '#503D36',\n",
    "                   'font-size': 40}),\n",
    "\n",
    "    dcc.Dropdown(\n",
    "        id='site-dropdown',\n",
    "        options=options,\n",
    "        value='ALL',\n",
    "        placeholder=\"Select a Launch Site here\",\n",
    "        searchable=True\n",
    "    )\n",
    "])\n",
    "\n",
    "# Run inline\n",
    "app.run(mode=\"inline\")"
   ]
  },
  {
   "cell_type": "code",
   "execution_count": 5,
   "id": "3058bc70-37ec-49b2-b592-9be750af7f98",
   "metadata": {},
   "outputs": [],
   "source": [
    "app.layout = html.Div([\n",
    "    html.H1(\"SpaceX Launch Records Dashboard\",\n",
    "            style={'textAlign': 'center', 'color': '#503D36',\n",
    "                   'font-size': 40}),\n",
    "\n",
    "    dcc.Dropdown(\n",
    "        id='site-dropdown',\n",
    "        options=options,\n",
    "        value='ALL',\n",
    "        placeholder=\"Select a Launch Site here\",\n",
    "        searchable=True\n",
    "    ),\n",
    "\n",
    "    html.Br(),  # just for spacing\n",
    "\n",
    "    # TASK 2: Pie chart placeholder\n",
    "    dcc.Graph(id='success-pie-chart')\n",
    "])"
   ]
  },
  {
   "cell_type": "code",
   "execution_count": 6,
   "id": "cbe49fbb-306f-4726-ab4f-164b23d23586",
   "metadata": {},
   "outputs": [],
   "source": [
    "from dash.dependencies import Input, Output\n",
    "import plotly.express as px\n",
    "\n",
    "@app.callback(\n",
    "    Output(component_id='success-pie-chart', component_property='figure'),\n",
    "    Input(component_id='site-dropdown', component_property='value')\n",
    ")\n",
    "def get_pie_chart(entered_site):\n",
    "    if entered_site == 'ALL':\n",
    "        # Use whole dataset: show total success counts by site\n",
    "        fig = px.pie(spacex_df, \n",
    "                     values='class', \n",
    "                     names='Launch Site', \n",
    "                     title='Total Success Launches by Site')\n",
    "    else:\n",
    "        # Filter data for the selected site\n",
    "        filtered_df = spacex_df[spacex_df['Launch Site'] == entered_site]\n",
    "        fig = px.pie(filtered_df, \n",
    "                     names='class', \n",
    "                     title=f'Success vs Failure for site {entered_site}')\n",
    "    return fig"
   ]
  },
  {
   "cell_type": "code",
   "execution_count": 7,
   "id": "e046e63a-e08c-4d75-a4e8-bccbcbd1a606",
   "metadata": {},
   "outputs": [
    {
     "data": {
      "text/html": [
       "\n",
       "        <iframe\n",
       "            width=\"100%\"\n",
       "            height=\"650\"\n",
       "            src=\"http://127.0.0.1:8050/\"\n",
       "            frameborder=\"0\"\n",
       "            allowfullscreen\n",
       "            \n",
       "        ></iframe>\n",
       "        "
      ],
      "text/plain": [
       "<IPython.lib.display.IFrame at 0x2645b1aa710>"
      ]
     },
     "metadata": {},
     "output_type": "display_data"
    }
   ],
   "source": [
    "app.run(mode=\"inline\")"
   ]
  },
  {
   "cell_type": "code",
   "execution_count": 8,
   "id": "6d94d6d0-9149-4e85-85a5-b6c9281771c0",
   "metadata": {},
   "outputs": [
    {
     "name": "stdout",
     "output_type": "stream",
     "text": [
      "0.0 9600.0\n"
     ]
    }
   ],
   "source": [
    "min_payload = spacex_df['Payload Mass (kg)'].min()\n",
    "max_payload = spacex_df['Payload Mass (kg)'].max()\n",
    "print(min_payload, max_payload)  # just to check"
   ]
  },
  {
   "cell_type": "code",
   "execution_count": 9,
   "id": "503b9cac-ac9c-4cf1-8078-94f9134a1ca8",
   "metadata": {},
   "outputs": [
    {
     "data": {
      "text/plain": [
       "(RangeSlider(min=0, max=10000, step=1000, marks={0: '0', 2500: '2500', 5000: '5000', 7500: '7500', 10000: '10000'}, value=[0.0, 9600.0], id='payload-slider'),)"
      ]
     },
     "execution_count": 9,
     "metadata": {},
     "output_type": "execute_result"
    }
   ],
   "source": [
    "html.Br(),\n",
    "\n",
    "html.P(\"Payload range (Kg):\"),\n",
    "\n",
    "dcc.RangeSlider(\n",
    "    id='payload-slider',\n",
    "    min=0, \n",
    "    max=10000, \n",
    "    step=1000,\n",
    "    marks={0: '0', 2500: '2500', 5000: '5000', 7500: '7500', 10000: '10000'},\n",
    "    value=[min_payload, max_payload]\n",
    "),"
   ]
  },
  {
   "cell_type": "code",
   "execution_count": 10,
   "id": "e2e3c332-9d2a-4a2d-a418-bbedb883df47",
   "metadata": {},
   "outputs": [],
   "source": [
    "app.layout = html.Div([\n",
    "    html.H1(\"SpaceX Launch Records Dashboard\",\n",
    "            style={'textAlign': 'center', 'color': '#503D36',\n",
    "                   'font-size': 40}),\n",
    "\n",
    "    # Dropdown (TASK 1)\n",
    "    dcc.Dropdown(\n",
    "        id='site-dropdown',\n",
    "        options=options,\n",
    "        value='ALL',\n",
    "        placeholder=\"Select a Launch Site here\",\n",
    "        searchable=True\n",
    "    ),\n",
    "\n",
    "    html.Br(),\n",
    "\n",
    "    # Pie chart (TASK 2)\n",
    "    dcc.Graph(id='success-pie-chart'),\n",
    "\n",
    "    html.Br(),\n",
    "\n",
    "    # RangeSlider (TASK 3)\n",
    "    html.P(\"Payload range (Kg):\"),\n",
    "    dcc.RangeSlider(\n",
    "        id='payload-slider',\n",
    "        min=0, \n",
    "        max=10000, \n",
    "        step=1000,\n",
    "        marks={0: '0', 2500: '2500', 5000: '5000', 7500: '7500', 10000: '10000'},\n",
    "        value=[min_payload, max_payload]\n",
    "    )\n",
    "])"
   ]
  },
  {
   "cell_type": "code",
   "execution_count": 11,
   "id": "ba96c1d2-1c13-44e6-9e2b-e09e1a90a1a3",
   "metadata": {},
   "outputs": [
    {
     "data": {
      "text/html": [
       "\n",
       "        <iframe\n",
       "            width=\"100%\"\n",
       "            height=\"650\"\n",
       "            src=\"http://127.0.0.1:8050/\"\n",
       "            frameborder=\"0\"\n",
       "            allowfullscreen\n",
       "            \n",
       "        ></iframe>\n",
       "        "
      ],
      "text/plain": [
       "<IPython.lib.display.IFrame at 0x2645ac6bb10>"
      ]
     },
     "metadata": {},
     "output_type": "display_data"
    }
   ],
   "source": [
    "app.run(mode=\"inline\")"
   ]
  },
  {
   "cell_type": "code",
   "execution_count": 12,
   "id": "b4a5b5cc-7c76-4bff-a15f-3a139b6b7571",
   "metadata": {},
   "outputs": [
    {
     "data": {
      "text/plain": [
       "Graph(id='success-payload-scatter-chart')"
      ]
     },
     "execution_count": 12,
     "metadata": {},
     "output_type": "execute_result"
    }
   ],
   "source": [
    "html.Br(),\n",
    "\n",
    "dcc.Graph(id='success-payload-scatter-chart')"
   ]
  },
  {
   "cell_type": "code",
   "execution_count": 13,
   "id": "5951ee14-ce92-4ac7-a648-12acc2da45ce",
   "metadata": {},
   "outputs": [],
   "source": [
    "from dash.dependencies import Input, Output\n",
    "import plotly.express as px\n",
    "\n",
    "@app.callback(\n",
    "    Output(component_id='success-payload-scatter-chart', component_property='figure'),\n",
    "    [\n",
    "        Input(component_id='site-dropdown', component_property='value'),\n",
    "        Input(component_id='payload-slider', component_property='value')\n",
    "    ]\n",
    ")\n",
    "def get_scatter_chart(selected_site, payload_range):\n",
    "    low, high = payload_range\n",
    "    # filter dataset by payload range\n",
    "    filtered_df = spacex_df[(spacex_df['Payload Mass (kg)'] >= low) &\n",
    "                            (spacex_df['Payload Mass (kg)'] <= high)]\n",
    "    \n",
    "    if selected_site == 'ALL':\n",
    "        # Scatter for all sites\n",
    "        fig = px.scatter(\n",
    "            filtered_df, x=\"Payload Mass (kg)\", y=\"class\",\n",
    "            color=\"Booster Version Category\",\n",
    "            title=\"Payload vs. Outcome for All Sites\"\n",
    "        )\n",
    "    else:\n",
    "        # Scatter for one site\n",
    "        site_df = filtered_df[filtered_df['Launch Site'] == selected_site]\n",
    "        fig = px.scatter(\n",
    "            site_df, x=\"Payload Mass (kg)\", y=\"class\",\n",
    "            color=\"Booster Version Category\",\n",
    "            title=f\"Payload vs. Outcome for site {selected_site}\"\n",
    "        )\n",
    "    \n",
    "    return fig"
   ]
  },
  {
   "cell_type": "code",
   "execution_count": 14,
   "id": "75d3b465-0ea6-4535-8e27-aee61ac2752e",
   "metadata": {},
   "outputs": [],
   "source": [
    "app.layout = html.Div([\n",
    "    html.H1(\"SpaceX Launch Records Dashboard\",\n",
    "            style={'textAlign': 'center', 'color': '#503D36',\n",
    "                   'font-size': 40}),\n",
    "\n",
    "    # TASK 1: Dropdown\n",
    "    dcc.Dropdown(\n",
    "        id='site-dropdown',\n",
    "        options=options,\n",
    "        value='ALL',\n",
    "        placeholder=\"Select a Launch Site here\",\n",
    "        searchable=True\n",
    "    ),\n",
    "\n",
    "    html.Br(),\n",
    "\n",
    "    # TASK 2: Pie chart\n",
    "    dcc.Graph(id='success-pie-chart'),\n",
    "\n",
    "    html.Br(),\n",
    "\n",
    "    # TASK 3: Slider\n",
    "    html.P(\"Payload range (Kg):\"),\n",
    "    dcc.RangeSlider(\n",
    "        id='payload-slider',\n",
    "        min=0, \n",
    "        max=10000, \n",
    "        step=1000,\n",
    "        marks={0: '0', 2500: '2500', 5000: '5000', 7500: '7500', 10000: '10000'},\n",
    "        value=[min_payload, max_payload]\n",
    "    ),\n",
    "\n",
    "    html.Br(),\n",
    "\n",
    "    # TASK 4: Scatter chart\n",
    "    dcc.Graph(id='success-payload-scatter-chart')\n",
    "])"
   ]
  },
  {
   "cell_type": "code",
   "execution_count": 15,
   "id": "eb331652-37f2-445f-aee1-93ade4e63e75",
   "metadata": {},
   "outputs": [
    {
     "data": {
      "text/html": [
       "\n",
       "        <iframe\n",
       "            width=\"100%\"\n",
       "            height=\"650\"\n",
       "            src=\"http://127.0.0.1:8050/\"\n",
       "            frameborder=\"0\"\n",
       "            allowfullscreen\n",
       "            \n",
       "        ></iframe>\n",
       "        "
      ],
      "text/plain": [
       "<IPython.lib.display.IFrame at 0x2645bec5cd0>"
      ]
     },
     "metadata": {},
     "output_type": "display_data"
    }
   ],
   "source": [
    "app.run(mode=\"inline\")"
   ]
  },
  {
   "cell_type": "code",
   "execution_count": 16,
   "id": "5e06da14-b239-4816-a835-c62f69c19fe7",
   "metadata": {},
   "outputs": [
    {
     "data": {
      "text/plain": [
       "Launch Site\n",
       "KSC LC-39A      10\n",
       "CCAFS LC-40      7\n",
       "VAFB SLC-4E      4\n",
       "CCAFS SLC-40     3\n",
       "Name: class, dtype: int64"
      ]
     },
     "execution_count": 16,
     "metadata": {},
     "output_type": "execute_result"
    }
   ],
   "source": [
    "spacex_df.groupby(\"Launch Site\")[\"class\"].sum().sort_values(ascending=False)"
   ]
  },
  {
   "cell_type": "code",
   "execution_count": 17,
   "id": "a8631c4e-b314-4112-8f0b-60f04936a9ef",
   "metadata": {},
   "outputs": [
    {
     "data": {
      "text/plain": [
       "Launch Site\n",
       "KSC LC-39A      0.769231\n",
       "CCAFS SLC-40    0.428571\n",
       "VAFB SLC-4E     0.400000\n",
       "CCAFS LC-40     0.269231\n",
       "Name: class, dtype: float64"
      ]
     },
     "execution_count": 17,
     "metadata": {},
     "output_type": "execute_result"
    }
   ],
   "source": [
    "(spacex_df.groupby(\"Launch Site\")[\"class\"].mean().sort_values(ascending=False))"
   ]
  },
  {
   "cell_type": "code",
   "execution_count": 18,
   "id": "1e7c7373-2b6d-4be4-a23d-8c9cdbab1eb0",
   "metadata": {},
   "outputs": [],
   "source": [
    "bins = [0, 2000, 4000, 6000, 8000, 10000]\n",
    "labels = ['0–2k', '2k–4k', '4k–6k', '6k–8k', '8k–10k']\n",
    "spacex_df['Payload Bin'] = pd.cut(spacex_df['Payload Mass (kg)'], bins, labels=labels)"
   ]
  },
  {
   "cell_type": "code",
   "execution_count": 20,
   "id": "83cfb5fd-1511-4455-968e-dce2707986ac",
   "metadata": {},
   "outputs": [
    {
     "data": {
      "text/plain": [
       "Payload Bin\n",
       "0–2k      0.272727\n",
       "2k–4k     0.619048\n",
       "4k–6k     0.384615\n",
       "6k–8k     0.000000\n",
       "8k–10k    0.600000\n",
       "Name: class, dtype: float64"
      ]
     },
     "execution_count": 20,
     "metadata": {},
     "output_type": "execute_result"
    }
   ],
   "source": [
    "# Success rate by payload bin\n",
    "spacex_df.groupby(\"Payload Bin\", observed=True)[\"class\"].mean()"
   ]
  },
  {
   "cell_type": "code",
   "execution_count": null,
   "id": "31883eea-58d0-4428-b60c-a02755536a77",
   "metadata": {},
   "outputs": [],
   "source": []
  }
 ],
 "metadata": {
  "kernelspec": {
   "display_name": "Python 3 (ipykernel)",
   "language": "python",
   "name": "python3"
  },
  "language_info": {
   "codemirror_mode": {
    "name": "ipython",
    "version": 3
   },
   "file_extension": ".py",
   "mimetype": "text/x-python",
   "name": "python",
   "nbconvert_exporter": "python",
   "pygments_lexer": "ipython3",
   "version": "3.13.5"
  }
 },
 "nbformat": 4,
 "nbformat_minor": 5
}
